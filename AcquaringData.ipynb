{
 "cells": [
  {
   "cell_type": "markdown",
   "metadata": {},
   "source": [
    "Downloading BG matches text files from http://itikawa.com/kifdb/herodb.cgi?table=bg&view=M&sort=1&order=D&recpoint=0"
   ]
  },
  {
   "cell_type": "code",
   "execution_count": 3,
   "metadata": {},
   "outputs": [],
   "source": [
    "from urllib import request\n",
    "from bs4 import BeautifulSoup\n",
    "import re\n",
    "import os\n",
    "import urllib\n",
    "\n",
    "#RecpointList = list(range(0,20,10)) # test range\n",
    "RecpointList = list(range(0,2410,10)) # full range\n",
    "\n",
    "#    folder_location = r'C:\\Users\\msagr\\Documents\\eXtremeGammon\\Doubles Study\\SplitIndividualGames'\n",
    "folder_location = os.path.join(os.getcwd(),'DatabaseOfMatches')\n",
    "if not os.path.exists(folder_location):os.mkdir(folder_location)\n",
    "    \n",
    "for i in RecpointList:\n",
    "    # connect to website and get list of all txt\n",
    "    url=\"http://itikawa.com/kifdb/herodb.cgi?table=bg&view=L&sort=1&order=D&recpoint=\" + str(i)\n",
    "    response = request.urlopen(url).read()\n",
    "    soup= BeautifulSoup(response, \"html.parser\")     \n",
    "    links = soup.find_all('a', href=re.compile(r'(.txt)'))\n",
    "    #print(links)\n",
    "\n",
    "    #clean the txt link names\n",
    "    url_list = []\n",
    "    for el in links:\n",
    "        x = el['href']\n",
    "        x = x.replace('bgrPHP/bg.php?s=','kifdb/bg/bin/');\n",
    "        x = x.replace('%2d','-')\n",
    "        x = x.replace('&g=1','')\n",
    "    #    print(x)\n",
    "        url_list.append(x)\n",
    "    #print(url_list)\n",
    "\n",
    "    # download the txts to a specified location\n",
    "    for url in url_list:\n",
    "        filename = url.split('/')[-1].replace(\" \", \"_\")\n",
    "        fullfilename = os.path.join(folder_location,filename)\n",
    "        request.urlretrieve(url, fullfilename)\n",
    "        #print(\"Saving file \" + filename)\n"
   ]
  },
  {
   "cell_type": "code",
   "execution_count": null,
   "metadata": {},
   "outputs": [],
   "source": []
  }
 ],
 "metadata": {
  "kernelspec": {
   "display_name": "Python 3",
   "language": "python",
   "name": "python3"
  },
  "language_info": {
   "codemirror_mode": {
    "name": "ipython",
    "version": 3
   },
   "file_extension": ".py",
   "mimetype": "text/x-python",
   "name": "python",
   "nbconvert_exporter": "python",
   "pygments_lexer": "ipython3",
   "version": "3.8.5"
  }
 },
 "nbformat": 4,
 "nbformat_minor": 4
}
