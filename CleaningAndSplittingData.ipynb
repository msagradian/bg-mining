{
 "cells": [
  {
   "cell_type": "markdown",
   "metadata": {},
   "source": [
    "Get names of matches files in the directory"
   ]
  },
  {
   "cell_type": "code",
   "execution_count": 154,
   "metadata": {
    "scrolled": true
   },
   "outputs": [],
   "source": [
    "from os import listdir\n",
    "from os.path import isfile, join\n",
    "matchesFolderName = \"DatabaseOfMatches\" # folder with bg matches\n",
    "matchesFileNames = [f for f in listdir(matchesFolderName) if isfile(join(matchesFolderName, f))]\n",
    "#matchesFileNames = matchesFileNames[0:1] # test slice"
   ]
  },
  {
   "cell_type": "markdown",
   "metadata": {},
   "source": [
    "Split all matches into games and put them into SplitIndividualGames folder"
   ]
  },
  {
   "cell_type": "code",
   "execution_count": 155,
   "metadata": {},
   "outputs": [],
   "source": [
    "# creating directory for games files\n",
    "import os\n",
    "gamesFolderName = os.path.join(os.getcwd(),\"SplitIndividualGames\")\n",
    "if not os.path.exists(gamesFolderName):os.mkdir(gamesFolderName)"
   ]
  },
  {
   "cell_type": "code",
   "execution_count": 156,
   "metadata": {},
   "outputs": [],
   "source": [
    "for fileName in matchesFileNames:\n",
    "    fullMatchFileName = matchesFolderName + \"/\" + fileName\n",
    "    with open(fullMatchFileName, mode=\"r\") as currentFile:\n",
    "        reader = currentFile.read()\n",
    "        for i,part in enumerate(reader.split(\"Game \")):\n",
    "            if i>0:\n",
    "                with open(gamesFolderName + \"/\" + fileName.replace(\".txt\",\"\") + \"Game\" + str(i)+\".txt\", mode=\"w\") as newFile:\n",
    "                    newFile.write(\"Game\"+str(part))"
   ]
  },
  {
   "cell_type": "markdown",
   "metadata": {},
   "source": [
    "Clean and standartise each game file"
   ]
  },
  {
   "cell_type": "code",
   "execution_count": 157,
   "metadata": {},
   "outputs": [],
   "source": [
    "from os import listdir\n",
    "from os.path import isfile, join\n",
    "import os\n",
    "\n",
    "gamesFolderName = \"SplitIndividualGames\" # folder with bg matches\n",
    "gamesFileNames = [f for f in listdir(gamesFolderName) if isfile(join(gamesFolderName, f))]\n",
    "#gamesFileNames = gamesFileNames[0:1] # test slice\n",
    "#print(gamesFileNames)"
   ]
  },
  {
   "cell_type": "code",
   "execution_count": 158,
   "metadata": {},
   "outputs": [],
   "source": [
    "# creating directory for cleaned games files\n",
    "fullCleanedGamesFolderName = os.path.join(os.getcwd(),\"SplitIndividualGamesCleaned\")\n",
    "if not os.path.exists(fullCleanedGamesFolderName):os.mkdir(fullCleanedGamesFolderName)"
   ]
  },
  {
   "cell_type": "code",
   "execution_count": 159,
   "metadata": {},
   "outputs": [],
   "source": [
    "def split_by_colon(string_to_split):\n",
    "    res = [\"\",\"\"]\n",
    "    if re.search(\":\", string_to_split):\n",
    "        res = (string_to_split.split(\":\"))\n",
    "        res[0] = res[0].strip();\n",
    "        res[1] = res[1].strip();\n",
    "    else:\n",
    "        res[0] = \"\"\n",
    "        res[1] = string_to_split.strip()\n",
    "    return res"
   ]
  },
  {
   "cell_type": "code",
   "execution_count": 161,
   "metadata": {},
   "outputs": [],
   "source": [
    "cleanedGamesFolderName = \"SplitIndividualGamesCleaned\"\n",
    "for fileName in gamesFileNames:\n",
    "    fullGameFileName = gamesFolderName + \"/\" + fileName\n",
    "    fullCleanedGameFileName = cleanedGamesFolderName + \"/\" + fileName\n",
    "    #print(fullGameFileName)\n",
    "    pattern = r'\\s*[0-9]+\\)\\s[0-9][0-9]:\\s.*[0-9][0-9]:' # pattern to recognise the proper string with two moves and rolls from both players\n",
    "    with open(fullCleanedGameFileName, 'w') as target_file:\n",
    "        with open(fullGameFileName, 'r') as source_file:\n",
    "            lines = source_file.readlines()\n",
    "            first_line = lines[0].strip()  # we will be removing this line\n",
    "            second_line = lines[1].strip() # we will be removing this line\n",
    "            last_line = lines[-1]\n",
    "            for line in lines:\n",
    "                res = re.search(pattern, target_string)\n",
    "                if res != None:\n",
    "                    playerBStart = res.end()-3\n",
    "                    break\n",
    "                if line is last:\n",
    "                    print(\"No such line in the game file\")\n",
    "            for line in lines:\n",
    "                moveN = line[0:3].strip(); # move number\n",
    "                playerA = line[4:playerBStart] # information about player A roll + move OR cube action\n",
    "                playerB = line[playerBStart:] # information about player B roll + move OR cube action \n",
    "                playerAList = split_by_colon(playerA)\n",
    "                playerBList = split_by_colon(playerB)\n",
    "                if (line.strip() != first_line) & (line.strip() != second_line) & (line.strip() != \"\"):\n",
    "                    line_out = moveN + \",\" + playerAList[0] + \",\" + playerAList[1] + \",\" + playerBList[0] + \",\" + playerBList[1] + \"\\n\"\n",
    "                    target_file.write(line_out)                "
   ]
  }
 ],
 "metadata": {
  "kernelspec": {
   "display_name": "Python 3",
   "language": "python",
   "name": "python3"
  },
  "language_info": {
   "codemirror_mode": {
    "name": "ipython",
    "version": 3
   },
   "file_extension": ".py",
   "mimetype": "text/x-python",
   "name": "python",
   "nbconvert_exporter": "python",
   "pygments_lexer": "ipython3",
   "version": "3.8.5"
  }
 },
 "nbformat": 4,
 "nbformat_minor": 4
}
