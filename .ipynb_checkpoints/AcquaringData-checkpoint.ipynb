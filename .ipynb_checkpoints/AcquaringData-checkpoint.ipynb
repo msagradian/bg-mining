{
 "cells": [
  {
   "cell_type": "markdown",
   "metadata": {},
   "source": [
    "Downloading BG matches text files from http://itikawa.com/kifdb/herodb.cgi?table=bg&view=M&sort=1&order=D&recpoint=0"
   ]
  },
  {
   "cell_type": "code",
   "execution_count": 25,
   "metadata": {},
   "outputs": [
    {
     "name": "stdout",
     "output_type": "stream",
     "text": [
      "Saving file Mochy-Liby%2019%20point%2045th%20World%20Championship%20UD%20Final_1627745788.txt\n",
      "Saving file Maestr0%20-%20fneumark%2013pt%20Backgammon%20Studio%202021_07_30%2019_43_44_1627674295.txt\n",
      "Saving file shadowtnt%20-%20Schiemann%205pt%20Backgammon%20Studio%202021_07_30%2019_14_43_1627672533.txt\n",
      "Saving file Schiemann%20-%20shadowtnt%205pt%20Backgammon%20Studio%202021_07_30%2018_53_29_1627671240.txt\n",
      "Saving file shadowtnt%20-%20Schiemann%205pt%20Backgammon%20Studio%202021_07_30%2018_17_27_1627669066.txt\n",
      "Saving file shadowtnt%20-%20Schiemann%205pt%20Backgammon%20Studio%202021_07_30%2017_51_44_1627667546.txt\n",
      "Saving file 210724_Hibiki%20Kawauchi%40CHIBA-O-Shigeru%20Fukazawa%40Chiba-O_TitleMatch%2387_1627644917.txt\n",
      "Saving file 210529_Kensaku%20Okatani-Shigeru%20Fukazawa%40CHIBA-O_TitleMatch%2386_1627644766.txt\n"
     ]
    }
   ],
   "source": [
    "from urllib import request\n",
    "from bs4 import BeautifulSoup\n",
    "import re\n",
    "import os\n",
    "import urllib\n",
    "\n",
    "RecpointList = list(range(0,20,10)) # test range\n",
    "#RecpointList = list(range(0,2410,10)) # full range\n",
    "\n",
    "#    folder_location = r'C:\\Users\\msagr\\Documents\\eXtremeGammon\\Doubles Study\\SplitIndividualGames'\n",
    "folder_location = os.path.join(os.getcwd(),'DatabaseOfGames')\n",
    "if not os.path.exists(folder_location):os.mkdir(folder_location)\n",
    "    \n",
    "for i in RecpointList:\n",
    "    # connect to website and get list of all txt\n",
    "    url=\"http://itikawa.com/kifdb/herodb.cgi?table=bg&view=L&sort=1&order=D&recpoint=\" + str(i)\n",
    "    response = request.urlopen(url).read()\n",
    "    soup= BeautifulSoup(response, \"html.parser\")     \n",
    "    links = soup.find_all('a', href=re.compile(r'(.txt)'))\n",
    "    #print(links)\n",
    "\n",
    "    #clean the txt link names\n",
    "    url_list = []\n",
    "    for el in links:\n",
    "        x = el['href']\n",
    "        x = x.replace('bgrPHP/bg.php?s=','kifdb/bg/bin/');\n",
    "        x = x.replace('%2d','-')\n",
    "        x = x.replace('&g=1','')\n",
    "    #    print(x)\n",
    "        url_list.append(x)\n",
    "    #print(url_list)\n",
    "\n",
    "    # download the txts to a specified location\n",
    "    for url in url_list:\n",
    "        filename = url.split('/')[-1].replace(\" \", \"_\")\n",
    "        fullfilename = os.path.join(folder_location,filename)\n",
    "        request.urlretrieve(url, fullfilename)\n",
    "        print(\"Saving file \" + filename)\n"
   ]
  }
 ],
 "metadata": {
  "kernelspec": {
   "display_name": "Python 3",
   "language": "python",
   "name": "python3"
  },
  "language_info": {
   "codemirror_mode": {
    "name": "ipython",
    "version": 3
   },
   "file_extension": ".py",
   "mimetype": "text/x-python",
   "name": "python",
   "nbconvert_exporter": "python",
   "pygments_lexer": "ipython3",
   "version": "3.8.5"
  }
 },
 "nbformat": 4,
 "nbformat_minor": 4
}
