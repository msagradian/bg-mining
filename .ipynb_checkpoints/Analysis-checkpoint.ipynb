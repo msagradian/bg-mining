{
 "cells": [
  {
   "cell_type": "markdown",
   "metadata": {},
   "source": [
    "Reading cleaned games files into dataframe"
   ]
  },
  {
   "cell_type": "code",
   "execution_count": 1,
   "metadata": {},
   "outputs": [],
   "source": [
    "from os import listdir\n",
    "from os.path import isfile, join\n",
    "import os"
   ]
  },
  {
   "cell_type": "code",
   "execution_count": 2,
   "metadata": {},
   "outputs": [],
   "source": [
    "cleanedGamesFolderName = \"SplitIndividualGamesCleaned\"\n",
    "gamesCleanedFileNames = [f for f in listdir(cleanedGamesFolderName) if isfile(join(cleanedGamesFolderName, f))]    \n",
    "    #game_df = pd.read_csv(fullGameFileName,skiprows=2,header=None)\n",
    "    #game_df = pd.read_fwf(fullGameFileName,skiprows=1,header=None)\n",
    "#print(gamesCleanedFileNames)"
   ]
  },
  {
   "cell_type": "code",
   "execution_count": 3,
   "metadata": {},
   "outputs": [],
   "source": [
    "import pandas as pd\n",
    "import numpy as np\n",
    "import re"
   ]
  },
  {
   "cell_type": "code",
   "execution_count": null,
   "metadata": {},
   "outputs": [],
   "source": [
    "all_games = pd.DataFrame(columns = [\"PlayerADoubles\", \"PlayerBDoubles\", \"IsAWinner\", \"PlayerAMovedFirst\", \"PlayerAPoints\", \"PlayerBPoints\", \"FirstRoll\"])\n",
    "rowN = 0; # row index to write to dataframe\n",
    "#indFLcount = 0\n",
    "for fileName in gamesCleanedFileNames: # full range\n",
    "#for fileName in gamesCleanedFileNames[0:500]: # testing slice\n",
    "    indFL = \"Y\" # indicator whether the game is valid (cleaned properly)\n",
    "    fullCleanedGameFileName = cleanedGamesFolderName + \"/\" + fileName\n",
    "    PlayerADoubles = 0; # number of doubles in a game for Player A\n",
    "    PlayerBDoubles = 0; # number of doubles in a game for Player B\n",
    "    PlayerAPoints = 0; # number of points in a game rolled by Player A\n",
    "    PlayerBPoints = 0; # number of points in a game rolled by Player B    \n",
    "    column_names = [\"MoveN\",\"PlayerA_Roll\",\"PlayerA_Move\",\"PlayerB_Roll\",\"PlayerB_Move\"];\n",
    "    game_df = pd.read_csv(fullCleanedGameFileName,delimiter=',', names=column_names, dtype=str)\n",
    "    game_df = game_df.astype(str)\n",
    "    for i in range(0,len(game_df)):\n",
    "        RollA = game_df.PlayerA_Roll[i]\n",
    "        RollB = game_df.PlayerB_Roll[i]\n",
    "        if i == 0:\n",
    "            if RollA == \"nan\":\n",
    "                PlayerAMovedFirst = \"N\"\n",
    "                sorted_roll = sorted(RollB, reverse=True)\n",
    "                FirstRoll = \"\".join(sorted_roll)\n",
    "            else:\n",
    "                PlayerAMovedFirst = \"Y\"\n",
    "                sorted_roll = sorted(RollA, reverse=True)\n",
    "                FirstRoll = \"\".join(sorted_roll)\n",
    "        if re.search(r\"^[1-6][1-6]\",RollA):\n",
    "            if RollA[0] == RollA[1]:\n",
    "                PlayerADoubles = PlayerADoubles + 1\n",
    "                PlayerAPoints = PlayerAPoints + 2 * (int(RollA[0]) + int(RollA[1]))\n",
    "            else:\n",
    "                PlayerAPoints = PlayerAPoints + (int(RollA[0]) + int(RollA[1]))\n",
    "        if re.search(r\"^[1-6][1-6]\",RollB):\n",
    "            if RollB[0] == RollB[1]:\n",
    "                PlayerBDoubles = PlayerBDoubles + 1\n",
    "                PlayerBPoints = PlayerBPoints + 2 * (int(RollB[0]) + int(RollB[1]))\n",
    "            else:\n",
    "                PlayerBPoints = PlayerBPoints + (int(RollB[0]) + int(RollB[1]))\n",
    "        if i == len(game_df)-1:\n",
    "            if re.search(\"Wins\",game_df.PlayerA_Move[i]):\n",
    "                IsAWinner = \"Y\"\n",
    "            elif re.search(\"Wins\",game_df.PlayerB_Move[i]):\n",
    "                IsAWinner = \"N\"\n",
    "            else:\n",
    "                indFL = \"N\"\n",
    "                #indFLcount = indFLcount + 1\n",
    "                #print(fileName)\n",
    "                #print(\"ERROR: NO WINNER FOUND\")\n",
    "    if indFL == \"Y\":\n",
    "        all_games.loc[rowN] = [PlayerADoubles] + [PlayerBDoubles] + [IsAWinner] + [PlayerAMovedFirst] + [PlayerAPoints] + [PlayerBPoints] + [FirstRoll]\n",
    "        rowN = rowN + 1\n",
    "    if len(FirstRoll) != 2:\n",
    "        print(\"First Roll length is less than 2\", fileName)\n",
    "#print(indFLcount)    "
   ]
  },
  {
   "cell_type": "code",
   "execution_count": null,
   "metadata": {},
   "outputs": [],
   "source": [
    "all_games[\"PlayerAMoreDoubles\"] = all_games[\"PlayerADoubles\"] - all_games[\"PlayerBDoubles\"]\n",
    "all_games[\"PlayerAMoreDoubles\"] = all_games[\"PlayerAMoreDoubles\"].apply(lambda x: np.sign(x))\n",
    "all_games[\"PlayerAMorePoints\"] = all_games[\"PlayerAPoints\"] - all_games[\"PlayerBPoints\"]\n",
    "all_games[\"PlayerAMorePoints\"] = all_games[\"PlayerAMorePoints\"].apply(lambda x: np.sign(x))"
   ]
  },
  {
   "cell_type": "code",
   "execution_count": null,
   "metadata": {},
   "outputs": [],
   "source": [
    "# calculating if winner rolled more doubles\n",
    "WinnerHadMoreDoubles = list()\n",
    "for i in range(0,len(all_games)):\n",
    "    IsAW = all_games.IsAWinner[i]\n",
    "    PAMoreD = all_games.PlayerAMoreDoubles[i] # Player A rolled more doubles\n",
    "    if ((IsAW == \"Y\") & (PAMoreD == 1)) | ((IsAW == \"N\") & (PAMoreD == -1)):\n",
    "        WinnerHadMoreDoubles.append(\"More\")\n",
    "    elif ((IsAW == \"Y\") & (PAMoreD == -1)) | ((IsAW == \"N\") & (PAMoreD == 1)):\n",
    "        WinnerHadMoreDoubles.append(\"Less\")\n",
    "    elif PAMoreD == 0:\n",
    "        WinnerHadMoreDoubles.append(\"Same\")\n",
    "    else:\n",
    "        print(\"ERROR: Unhandled case\")\n",
    "all_games[\"WinnerHadMoreDoubles\"] = WinnerHadMoreDoubles"
   ]
  },
  {
   "cell_type": "code",
   "execution_count": null,
   "metadata": {},
   "outputs": [],
   "source": [
    "# calculating if winner rolled more points\n",
    "WinnerHadMorePoints = list()\n",
    "for i in range(0,len(all_games)):\n",
    "    IsAW = all_games.IsAWinner[i]\n",
    "    PAMoreP = all_games.PlayerAMorePoints[i] # Player A rolled more points\n",
    "    if ((IsAW == \"Y\") & (PAMoreP == 1)) | ((IsAW == \"N\") & (PAMoreP == -1)):\n",
    "        WinnerHadMorePoints.append(\"More\")\n",
    "    elif ((IsAW == \"Y\") & (PAMoreP == -1)) | ((IsAW == \"N\") & (PAMoreP == 1)):\n",
    "        WinnerHadMorePoints.append(\"Less\")\n",
    "    elif PAMoreP == 0:\n",
    "        WinnerHadMorePoints.append(\"Same\")\n",
    "    else:\n",
    "        print(\"ERROR: Unhandled case\")\n",
    "all_games[\"WinnerHadMorePoints\"] = WinnerHadMorePoints"
   ]
  },
  {
   "cell_type": "code",
   "execution_count": null,
   "metadata": {},
   "outputs": [],
   "source": [
    "# calculating if winner moved first\n",
    "WinnerMovedFirst = list()\n",
    "for i in range(0,len(all_games)):\n",
    "    IsAW = all_games.IsAWinner[i]\n",
    "    PAMovedF = all_games.PlayerAMovedFirst[i] # Player A moved first flag\n",
    "    if ((IsAW == \"Y\") & (PAMovedF == \"Y\")) | ((IsAW == \"N\") & (PAMovedF == \"N\")):\n",
    "        WinnerMovedFirst.append(\"Y\")\n",
    "    else:\n",
    "        WinnerMovedFirst.append(\"N\")\n",
    "all_games[\"WinnerMovedFirst\"] = WinnerMovedFirst"
   ]
  },
  {
   "cell_type": "code",
   "execution_count": null,
   "metadata": {},
   "outputs": [],
   "source": [
    "#print(len(all_games))\n",
    "all_games.head(10)"
   ]
  },
  {
   "cell_type": "markdown",
   "metadata": {},
   "source": [
    "Counting number of games with winner rolling more,less, or same number of doubles"
   ]
  },
  {
   "cell_type": "code",
   "execution_count": null,
   "metadata": {},
   "outputs": [],
   "source": [
    "counts = all_games[\"WinnerHadMoreDoubles\"].value_counts().to_dict()\n",
    "print(counts)\n",
    "counts_ratio = [counts[\"More\"]/len(all_games)*100,counts[\"Less\"]/len(all_games)*100,counts[\"Same\"]/len(all_games)*100]\n",
    "counts_ratio_dict = {\"More\": counts_ratio[0],\"Less\": counts_ratio[1],\"Same\": counts_ratio[2]}\n",
    "print(counts_ratio_dict)"
   ]
  },
  {
   "cell_type": "markdown",
   "metadata": {},
   "source": [
    "<b>Create a pie chart demonstrating the ratio of games won versus more/less/equal number of doubles rolled by the winner.</b>"
   ]
  },
  {
   "cell_type": "code",
   "execution_count": null,
   "metadata": {},
   "outputs": [],
   "source": [
    "import matplotlib.pyplot as plt\n",
    "\n",
    "# Data to plot\n",
    "colors = ['r','y','c'] # Color of each section\n",
    "explode = [0.03,0.15,0.1] # To slice the perticuler section\n",
    "labels = [\"More doubles\",\"Less doubles\",\"Same number \\nof doubles\"]\n",
    "\n",
    "values = []\n",
    "for x, y in counts.items():\n",
    "    values.append(y)\n",
    "\n",
    "def make_autopct(values):\n",
    "    def my_autopct(pct):\n",
    "        total = sum(values)\n",
    "        val = int(round(pct*total/100.0))\n",
    "        return '{p:.1f}%  ({v:d})'.format(p=pct,v=val)\n",
    "    return my_autopct\n",
    "\n",
    "plt.figure(figsize = (3,2))\n",
    "wedgeprops = {\"linewidth\": 4, 'width':1, \"edgecolor\":\"k\"} # Width = 1\n",
    "plt.pie(\n",
    "        values, \n",
    "        labels = labels, \n",
    "        explode = explode, \n",
    "        colors = colors, \n",
    "        autopct = make_autopct(values), \n",
    "        pctdistance = 0.6, \n",
    "        shadow =True, \n",
    "        labeldistance = 1.15, \n",
    "        startangle = 45,\n",
    "        radius = 1.1, \n",
    "        counterclock = True, \n",
    "        wedgeprops = wedgeprops,\n",
    "        center=(0.5, -0.5),\n",
    "        frame=True,\n",
    "        )\n",
    "#ax = axes([0.1, 0.1, 0.8, 0.8])\n",
    "plt.axis(\"off\")\n",
    "plt.title(\"Did the game winner rolled more doubles than their opponent?\\nCalculation is based on \" + str(len(all_games)) + \" games.\" ,bbox={'facecolor': '0.9', 'pad': 5})\n",
    "#plt.show()\n",
    "plt.savefig('Findings/doubles-study1.png',bbox_inches='tight')"
   ]
  },
  {
   "cell_type": "markdown",
   "metadata": {},
   "source": [
    "<b>Create a pie chart demonstrating the ratio of games won versus more/less/equal number of points rolled by the winner.</b>"
   ]
  },
  {
   "cell_type": "code",
   "execution_count": null,
   "metadata": {},
   "outputs": [],
   "source": [
    "counts_points = all_games[\"WinnerHadMorePoints\"].value_counts().to_dict()\n",
    "print(counts_points)\n",
    "counts_points_ratio = [counts_points[\"More\"]/len(all_games)*100,counts_points[\"Less\"]/len(all_games)*100,counts_points[\"Same\"]/len(all_games)*100]\n",
    "counts_points_ratio_dict = {\"More\": counts_points_ratio[0],\"Less\": counts_points_ratio[1],\"Same\": counts_points_ratio[2]}\n",
    "print(counts_points_ratio_dict)"
   ]
  },
  {
   "cell_type": "code",
   "execution_count": null,
   "metadata": {},
   "outputs": [],
   "source": [
    "import matplotlib.pyplot as plt\n",
    "\n",
    "# Data to plot\n",
    "colors = ['#ff9999','#66b3ff','#99ff99'] # Color of each section\n",
    "#explode = [0.1,0.15,0.1] # To slice the perticuler section\n",
    "labels = [\"More points\",\"Less points\",\"Same number of points\"]\n",
    "\n",
    "values = []\n",
    "for x, y in counts_points_ratio_dict.items():\n",
    "    values.append(y)\n",
    "\n",
    "plt.figure(figsize = (2,2))\n",
    "wedgeprops = {\"linewidth\": 2, 'width':1, \"edgecolor\":\"k\"} # Width = 1\n",
    "plt.pie(\n",
    "        values, \n",
    "        labels = [\"\",\"\",\"\"], \n",
    "        colors = colors, \n",
    "        pctdistance = 0.6, \n",
    "        shadow =True, \n",
    "        labeldistance = 1.15, \n",
    "        startangle = 80,\n",
    "        radius = 1.0, \n",
    "        counterclock = True, \n",
    "        wedgeprops = wedgeprops,\n",
    "        center=(0.5, -0.5),\n",
    "        frame=True,\n",
    "        )\n",
    "#ax = axes([0.1, 0.1, 0.8, 0.8])\n",
    "plt.axis(\"off\")\n",
    "labels = [f'{l}, {s:0.1f}%' for l, s in zip(labels, values)]\n",
    "plt.legend(bbox_to_anchor=(0.84, 1), loc='upper left', labels=labels)\n",
    "plt.title(\"Did the game winner rolled more points than their opponent?\\nCalculation is based on \" + str(len(all_games)) + \" games.\" ,bbox={'facecolor': '0.9', 'pad': 5})\n",
    "#plt.show()\n",
    "plt.savefig('Findings/points-study1.png',bbox_inches='tight')"
   ]
  },
  {
   "cell_type": "markdown",
   "metadata": {},
   "source": [
    "Counting number of games with winner moving first or second"
   ]
  },
  {
   "cell_type": "code",
   "execution_count": null,
   "metadata": {},
   "outputs": [],
   "source": [
    "counts_winner_moved_first = all_games[\"WinnerMovedFirst\"].value_counts().to_dict()\n",
    "print(counts_winner_moved_first)\n",
    "counts_winner_moved_first_ratio = [counts_winner_moved_first[\"Y\"]/len(all_games)*100,counts_winner_moved_first[\"N\"]/len(all_games)*100]\n",
    "counts_winner_moved_first_ratio_dict = {\"Y\": counts_winner_moved_first_ratio[0],\"N\": counts_winner_moved_first_ratio[1]}\n",
    "print(counts_winner_moved_first_ratio_dict)"
   ]
  },
  {
   "cell_type": "markdown",
   "metadata": {},
   "source": [
    "<b>Create the bar chart displaying dependence of ratio games won by making the first move.</b>"
   ]
  },
  {
   "cell_type": "code",
   "execution_count": null,
   "metadata": {},
   "outputs": [],
   "source": [
    "import matplotlib.pyplot as plt\n",
    "\n",
    "# Data to plot\n",
    "labels = [\"Yes\", \"No\"]\n",
    "plt.figure(figsize=(6, 1))  # width:20, height:3    \n",
    "plt.style.use('ggplot')\n",
    "barlist = plt.barh(labels,counts_winner_moved_first_ratio_dict.values(),height=0.9,align='center',color = [\"m\",\"b\"])\n",
    "plt.title(\"Did the game winner make the first move?\\nCalculation is based on \" + str(len(all_games)) + \" games.\" ,bbox={'facecolor': '0.9', 'pad': 1})\n",
    "plt.tick_params(axis='both', labelsize=10, length = 0)\n",
    "#plt.show()\n",
    "plt.savefig('Findings/winner-moved-first1.png',bbox_inches='tight')"
   ]
  },
  {
   "cell_type": "markdown",
   "metadata": {},
   "source": [
    "<b>Create a histogram demonstrating the ratio of games won versus specific first roll</b>"
   ]
  },
  {
   "cell_type": "code",
   "execution_count": null,
   "metadata": {},
   "outputs": [],
   "source": [
    "counts_rolls = all_games[\"FirstRoll\"].value_counts().to_dict()\n",
    "print(counts_rolls)\n",
    "#counts_points_ratio = [counts_points[\"More\"]/len(all_games)*100,counts_points[\"Less\"]/len(all_games)*100,counts_points[\"Same\"]/len(all_games)*100]\n",
    "#counts_points_ratio_dict = {\"More\": counts_points_ratio[0],\"Less\": counts_points_ratio[1],\"Same\": counts_points_ratio[2]}\n",
    "#print(counts_points_ratio_dict)"
   ]
  },
  {
   "cell_type": "code",
   "execution_count": null,
   "metadata": {},
   "outputs": [],
   "source": [
    "plt.bar(counts_rolls.keys(), counts_rolls.values(), color=['g','r','b','y'])\n",
    "plt.title(\"Distribution of first rolls.\\nCalculation is based on \" + str(len(all_games)) + \" games.\" ,bbox={'facecolor': '0.9', 'pad': 1})\n",
    "plt.show()"
   ]
  },
  {
   "cell_type": "markdown",
   "metadata": {},
   "source": [
    "Calculating ratios of winning the game by starting with a specific number and creating hist (or partially filled bubble plot)"
   ]
  },
  {
   "cell_type": "code",
   "execution_count": null,
   "metadata": {},
   "outputs": [],
   "source": [
    "counts_rolls_win = all_games.groupby([\"FirstRoll\",\"WinnerMovedFirst\"]).size().reset_index(name=\"Freq\")"
   ]
  },
  {
   "cell_type": "code",
   "execution_count": null,
   "metadata": {},
   "outputs": [],
   "source": [
    "labels = counts_rolls_win.loc[counts_rolls_win.WinnerMovedFirst == 'N', 'FirstRoll'].to_list()\n",
    "games_won = counts_rolls_win.loc[counts_rolls_win.WinnerMovedFirst == 'Y', 'Freq'].to_list()\n",
    "games_lost = counts_rolls_win.loc[counts_rolls_win.WinnerMovedFirst == 'N', 'Freq'].to_list()\n",
    "\n",
    "x = np.arange(len(labels))  # the label locations\n",
    "width = 0.45  # the width of the bars\n",
    "\n",
    "fig, ax = plt.subplots()\n",
    "rects1 = ax.bar(x - width/2, games_won, width, label='Won')\n",
    "rects2 = ax.bar(x + width/2, games_lost, width, label='Lost')\n",
    "\n",
    "# Add some text for labels, title and custom x-axis tick labels, etc.\n",
    "ax.set_xlabel(\"First Roll\")\n",
    "ax.set_ylabel(\"Number of Games\")\n",
    "ax.set_title(\"Games outcome by first roll and winner.\\nCalculation is based on \" + str(len(all_games)) + \" games.\" ,bbox={'facecolor': '0.9', 'pad': 1})\n",
    "ax.set_xticks(x)\n",
    "ax.set_xticklabels(labels)\n",
    "ax.legend()\n",
    "\n",
    "#ax.bar_label(rects1, padding=3)\n",
    "#ax.bar_label(rects2, padding=3)\n",
    "\n",
    "fig.tight_layout()\n",
    "#plt.show()\n",
    "plt.savefig('Findings/first_roll_success1.png',bbox_inches='tight')"
   ]
  },
  {
   "cell_type": "code",
   "execution_count": null,
   "metadata": {},
   "outputs": [],
   "source": []
  }
 ],
 "metadata": {
  "kernelspec": {
   "display_name": "Python 3",
   "language": "python",
   "name": "python3"
  },
  "language_info": {
   "codemirror_mode": {
    "name": "ipython",
    "version": 3
   },
   "file_extension": ".py",
   "mimetype": "text/x-python",
   "name": "python",
   "nbconvert_exporter": "python",
   "pygments_lexer": "ipython3",
   "version": "3.8.5"
  }
 },
 "nbformat": 4,
 "nbformat_minor": 4
}
